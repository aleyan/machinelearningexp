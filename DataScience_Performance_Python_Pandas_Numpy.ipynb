{
 "cells": [
  {
   "cell_type": "markdown",
   "metadata": {},
   "source": [
    "# Data Science: Performance of Pure Python vs Pandas vs Numpy"
   ]
  },
  {
   "cell_type": "markdown",
   "metadata": {},
   "source": [
    "## Intro\n",
    "In this notebook wie will compare data processing speed of pure Python, Pandas and Numpy"
   ]
  },
  {
   "cell_type": "markdown",
   "metadata": {},
   "source": [
    "## Imports"
   ]
  },
  {
   "cell_type": "code",
   "execution_count": 1,
   "metadata": {
    "collapsed": true
   },
   "outputs": [],
   "source": [
    "# Python 3.6\n",
    "import os\n",
    "import sys\n",
    "import gc\n",
    "import random\n",
    "import time\n",
    "import numpy as np\n",
    "import pandas as pd\n",
    "import matplotlib.pyplot as plt\n",
    "%matplotlib inline"
   ]
  },
  {
   "cell_type": "markdown",
   "metadata": {},
   "source": [
    "## Prepare dummy random dataset"
   ]
  },
  {
   "cell_type": "code",
   "execution_count": 2,
   "metadata": {
    "collapsed": true
   },
   "outputs": [],
   "source": [
    "# clear memory\n",
    "gc.collect()\n",
    "# We will prepare artificial dataset that contains orders of the product.\n",
    "# Each order will have random number of items ordered and random price within given range\n",
    "dataset_python = []\n",
    "products_ids = [1,10000] # number of products in the dataset\n",
    "range_orders = [1,10] # range of orders for product from which to select one random value\n",
    "range_quantity = [1,100] # range of quantity in order from which to select one random value\n",
    "range_price = [0.1,30.00] # range of product prices from which to select one random value"
   ]
  },
  {
   "cell_type": "code",
   "execution_count": 3,
   "metadata": {
    "collapsed": true
   },
   "outputs": [],
   "source": [
    "def generate_dummy_dataset(products_ids,range_orders,products_quantity,products_price):\n",
    "    generated_dataset = []\n",
    "    for idx in range(products_ids[0],products_ids[1]):\n",
    "        random_orders = random.randint(range_orders[0],range_orders[1]) \n",
    "        for odx in range(random_orders):\n",
    "            quantity = random.randint(range_quantity[0],range_quantity[1])\n",
    "            price = random.uniform(range_price[0],range_price[1])\n",
    "            generated_dataset.append([idx,odx,quantity,price])\n",
    "    return generated_dataset"
   ]
  },
  {
   "cell_type": "code",
   "execution_count": 4,
   "metadata": {},
   "outputs": [
    {
     "name": "stdout",
     "output_type": "stream",
     "text": [
      "Dataset size 55136 records\n"
     ]
    },
    {
     "data": {
      "text/plain": [
       "[[1, 0, 47, 5.072906551868127],\n",
       " [1, 1, 22, 23.90221557817653],\n",
       " [1, 2, 17, 18.496793608855274]]"
      ]
     },
     "execution_count": 4,
     "metadata": {},
     "output_type": "execute_result"
    }
   ],
   "source": [
    "dataset_python = generate_dummy_dataset(products_ids,range_orders,range_quantity,range_price)\n",
    "print (\"Dataset size\",len(dataset_python),\"records\")\n",
    "dataset_python[0:3]"
   ]
  },
  {
   "cell_type": "code",
   "execution_count": 5,
   "metadata": {},
   "outputs": [
    {
     "data": {
      "text/plain": [
       "array([[  1.        ,   0.        ,  47.        ,   5.07290655],\n",
       "       [  1.        ,   1.        ,  22.        ,  23.90221558],\n",
       "       [  1.        ,   2.        ,  17.        ,  18.49679361]])"
      ]
     },
     "execution_count": 5,
     "metadata": {},
     "output_type": "execute_result"
    }
   ],
   "source": [
    "dataset_numpy = np.array(dataset_python)\n",
    "dataset_numpy[0:3,:]"
   ]
  },
  {
   "cell_type": "code",
   "execution_count": 6,
   "metadata": {},
   "outputs": [
    {
     "data": {
      "text/html": [
       "<div>\n",
       "<style>\n",
       "    .dataframe thead tr:only-child th {\n",
       "        text-align: right;\n",
       "    }\n",
       "\n",
       "    .dataframe thead th {\n",
       "        text-align: left;\n",
       "    }\n",
       "\n",
       "    .dataframe tbody tr th {\n",
       "        vertical-align: top;\n",
       "    }\n",
       "</style>\n",
       "<table border=\"1\" class=\"dataframe\">\n",
       "  <thead>\n",
       "    <tr style=\"text-align: right;\">\n",
       "      <th></th>\n",
       "      <th>product_id</th>\n",
       "      <th>product_order_num</th>\n",
       "      <th>quantity</th>\n",
       "      <th>price</th>\n",
       "    </tr>\n",
       "  </thead>\n",
       "  <tbody>\n",
       "    <tr>\n",
       "      <th>0</th>\n",
       "      <td>1.0</td>\n",
       "      <td>0.0</td>\n",
       "      <td>47.0</td>\n",
       "      <td>5.072907</td>\n",
       "    </tr>\n",
       "    <tr>\n",
       "      <th>1</th>\n",
       "      <td>1.0</td>\n",
       "      <td>1.0</td>\n",
       "      <td>22.0</td>\n",
       "      <td>23.902216</td>\n",
       "    </tr>\n",
       "    <tr>\n",
       "      <th>2</th>\n",
       "      <td>1.0</td>\n",
       "      <td>2.0</td>\n",
       "      <td>17.0</td>\n",
       "      <td>18.496794</td>\n",
       "    </tr>\n",
       "  </tbody>\n",
       "</table>\n",
       "</div>"
      ],
      "text/plain": [
       "   product_id  product_order_num  quantity      price\n",
       "0         1.0                0.0      47.0   5.072907\n",
       "1         1.0                1.0      22.0  23.902216\n",
       "2         1.0                2.0      17.0  18.496794"
      ]
     },
     "execution_count": 6,
     "metadata": {},
     "output_type": "execute_result"
    }
   ],
   "source": [
    "dataset_pandas = pd.DataFrame(data=dataset_numpy,columns=['product_id','product_order_num','quantity','price'])\n",
    "dataset_pandas.head(3)"
   ]
  },
  {
   "cell_type": "markdown",
   "metadata": {},
   "source": [
    "## Pure Python function"
   ]
  },
  {
   "cell_type": "code",
   "execution_count": 7,
   "metadata": {
    "collapsed": true
   },
   "outputs": [],
   "source": [
    "# function generating statistics using pure Python\n",
    "def gen_stats_python(dataset_python):\n",
    "    start = time.time()\n",
    "    product_stats = []\n",
    "    unique_products = set([x[0] for x in dataset_python])\n",
    "    for product_id in unique_products:\n",
    "        product_items = [x for x in dataset_python if x[0]==product_id ]\n",
    "        num_orders = len(product_items)\n",
    "        total_quantity = 0\n",
    "        total_price = 0\n",
    "        for row in product_items:\n",
    "            total_quantity += row[2]\n",
    "            total_price += row[3]\n",
    "        avg_price = float(total_price/num_orders)\n",
    "        product_stats.append([int(product_id),int(num_orders),int(total_quantity),round(avg_price,2)])\n",
    "    end = time.time()\n",
    "    working_time = end-start\n",
    "    return product_stats,working_time"
   ]
  },
  {
   "cell_type": "markdown",
   "metadata": {},
   "source": [
    "## Pandas function"
   ]
  },
  {
   "cell_type": "code",
   "execution_count": 8,
   "metadata": {
    "collapsed": true
   },
   "outputs": [],
   "source": [
    "# function generating statistics using Pandas\n",
    "def gen_stats_pandas(dataset_pandas):\n",
    "    start = time.time()\n",
    "\n",
    "    product_stats = dataset_pandas.groupby(['product_id']). \\\n",
    "        agg({'product_id':'count','quantity':'sum', 'price':'mean'}). \\\n",
    "        rename(columns={'product_id':'count'}).reset_index()\n",
    "    product_stats['product_id'] = product_stats['product_id'].astype(int)\n",
    "    product_stats['quantity'] = product_stats['quantity'].astype(int)\n",
    "    product_stats['price'] = product_stats['price'].round(2)\n",
    "\n",
    "    # Conversion from DataFrame to List of Lists is not ideomatic\n",
    "    product_stats =[ [row['product_id'],row['count'],row['quantity'],row['price']]\n",
    "        for _,row in product_stats.iterrows()]\n",
    "\n",
    "    end = time.time()\n",
    "    working_time = end-start\n",
    "    return product_stats,working_time"
   ]
  },
  {
   "cell_type": "markdown",
   "metadata": {},
   "source": [
    "## Numpy function"
   ]
  },
  {
   "cell_type": "code",
   "execution_count": 9,
   "metadata": {
    "collapsed": true
   },
   "outputs": [],
   "source": [
    "# function generating statistics using Numpy\n",
    "def gen_stats_numpy(dataset_numpy):\n",
    "    start = time.time()\n",
    "    product_stats = []\n",
    "    for product_id in np.nditer(np.unique(dataset_numpy[:,0]),op_dtypes=['float64']):\n",
    "        product_items = dataset_numpy[dataset_numpy[:,0] == product_id]\n",
    "        num_orders = product_items.shape[0]\n",
    "        total_quantity = product_items[:,2].sum()\n",
    "        avg_price = float(product_items[:,3].mean())\n",
    "        product_stats.append([int(product_id),int(num_orders),int(total_quantity),round(avg_price,2)])\n",
    "    end = time.time()\n",
    "    working_time = end-start\n",
    "    return product_stats,working_time"
   ]
  },
  {
   "cell_type": "markdown",
   "metadata": {},
   "source": [
    "## Check if all functions generate the same result"
   ]
  },
  {
   "cell_type": "code",
   "execution_count": 10,
   "metadata": {},
   "outputs": [
    {
     "name": "stdout",
     "output_type": "stream",
     "text": [
      "[[1, 5, 192, 17.06], [2, 5, 275, 19.95], [3, 9, 561, 17.59]]\n",
      "[[1.0, 5.0, 192.0, 17.059999999999999], [2.0, 5.0, 275.0, 19.949999999999999], [3.0, 9.0, 561.0, 17.59]]\n",
      "[[1, 5, 192, 17.06], [2, 5, 275, 19.95], [3, 9, 561, 17.59]]\n",
      "All results equal: True\n"
     ]
    }
   ],
   "source": [
    "stats_python = gen_stats_python(dataset_python)[0]\n",
    "stats_pandas = gen_stats_pandas(dataset_pandas)[0]\n",
    "stats_numpy = gen_stats_numpy(dataset_numpy)[0]\n",
    "print (stats_python[0:3])\n",
    "print (stats_pandas[0:3])\n",
    "print (stats_numpy[0:3])\n",
    "print (\"All results equal:\",stats_python == stats_pandas == stats_numpy)"
   ]
  },
  {
   "cell_type": "code",
   "execution_count": 11,
   "metadata": {
    "collapsed": true
   },
   "outputs": [],
   "source": [
    "# clear memory\n",
    "del stats_python,stats_pandas,stats_numpy"
   ]
  },
  {
   "cell_type": "markdown",
   "metadata": {},
   "source": [
    "## Compare running time"
   ]
  },
  {
   "cell_type": "code",
   "execution_count": 12,
   "metadata": {
    "collapsed": true
   },
   "outputs": [],
   "source": [
    "NUM_ITERATIONS = 3"
   ]
  },
  {
   "cell_type": "code",
   "execution_count": 13,
   "metadata": {},
   "outputs": [
    {
     "name": "stdout",
     "output_type": "stream",
     "text": [
      "Python average time: 58.41252597173055 seconds\n"
     ]
    }
   ],
   "source": [
    "gc.collect()\n",
    "total_time = 0\n",
    "for i in range(NUM_ITERATIONS):\n",
    "    total_time += gen_stats_python(dataset_python)[1]\n",
    "python_avg_time = total_time/NUM_ITERATIONS\n",
    "print (\"Python average time:\",python_avg_time,\"seconds\")"
   ]
  },
  {
   "cell_type": "code",
   "execution_count": 14,
   "metadata": {},
   "outputs": [
    {
     "name": "stdout",
     "output_type": "stream",
     "text": [
      "Pandas average time: 1.2497669855753581 seconds\n"
     ]
    }
   ],
   "source": [
    "gc.collect()\n",
    "total_time = 0\n",
    "for i in range(NUM_ITERATIONS):\n",
    "    total_time += gen_stats_pandas(dataset_pandas)[1]\n",
    "pandas_avg_time = total_time/NUM_ITERATIONS\n",
    "print (\"Pandas average time:\",pandas_avg_time,\"seconds\")"
   ]
  },
  {
   "cell_type": "code",
   "execution_count": 15,
   "metadata": {},
   "outputs": [
    {
     "name": "stdout",
     "output_type": "stream",
     "text": [
      "Numpy average time: 3.6670149167378745 seconds\n"
     ]
    }
   ],
   "source": [
    "gc.collect()\n",
    "total_time = 0\n",
    "for i in range(NUM_ITERATIONS):\n",
    "    total_time += gen_stats_numpy(dataset_numpy)[1]\n",
    "numpy_avg_time = total_time/NUM_ITERATIONS\n",
    "print (\"Numpy average time:\",numpy_avg_time,\"seconds\")"
   ]
  },
  {
   "cell_type": "markdown",
   "metadata": {},
   "source": [
    "## Present results"
   ]
  },
  {
   "cell_type": "code",
   "execution_count": 16,
   "metadata": {
    "collapsed": true
   },
   "outputs": [],
   "source": [
    "python_vs_python = 1\n",
    "pandas_vs_python = python_avg_time/pandas_avg_time\n",
    "numpy_vs_python = python_avg_time/numpy_avg_time"
   ]
  },
  {
   "cell_type": "code",
   "execution_count": 17,
   "metadata": {},
   "outputs": [
    {
     "data": {
      "image/png": "[encoded data removed]",
      "text/plain": [
       "<matplotlib.figure.Figure at 0x109b724a8>"
      ]
     },
     "metadata": {},
     "output_type": "display_data"
    }
   ],
   "source": [
    "plt.style.use('fivethirtyeight')\n",
    "objects = ('Python', 'Pandas', 'Numpy')\n",
    "y_rng = np.arange(len(objects))\n",
    "performance = [python_vs_python,pandas_vs_python,numpy_vs_python]\n",
    "plt.barh(y_rng, performance, align='center', alpha=0.5)\n",
    "plt.yticks(y_rng, objects)\n",
    "plt.xlabel('Processing speed')\n",
    "plt.title('Data processing speed (Python = 1x)')\n",
    "for a,b in zip(performance, y_rng):\n",
    "    plt.text(a, b, \"  \"+str(round(a))+\"x\")\n",
    "plt.show()"
   ]
  }
 ],
 "metadata": {
  "kernelspec": {
   "display_name": "Python 3",
   "language": "python",
   "name": "python3"
  },
  "language_info": {
   "codemirror_mode": {
    "name": "ipython",
    "version": 3
   },
   "file_extension": ".py",
   "mimetype": "text/x-python",
   "name": "python",
   "nbconvert_exporter": "python",
   "pygments_lexer": "ipython3",
   "version": "3.6.1"
  }
 },
 "nbformat": 4,
 "nbformat_minor": 2
}
